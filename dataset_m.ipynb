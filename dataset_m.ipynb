{
  "nbformat": 4,
  "nbformat_minor": 0,
  "metadata": {
    "colab": {
      "provenance": [],
      "authorship_tag": "ABX9TyOG4sLL4T6YuQS1nMW2g1v6",
      "include_colab_link": true
    },
    "kernelspec": {
      "name": "python3",
      "display_name": "Python 3"
    },
    "language_info": {
      "name": "python"
    }
  },
  "cells": [
    {
      "cell_type": "markdown",
      "metadata": {
        "id": "view-in-github",
        "colab_type": "text"
      },
      "source": [
        "<a href=\"https://colab.research.google.com/github/aka-sa/Human_Centered_AI_Data/blob/main/dataset_m.ipynb\" target=\"_parent\"><img src=\"https://colab.research.google.com/assets/colab-badge.svg\" alt=\"Open In Colab\"/></a>"
      ]
    },
    {
      "cell_type": "code",
      "source": [
        "!pip install Faker==0.7.4"
      ],
      "metadata": {
        "colab": {
          "base_uri": "https://localhost:8080/"
        },
        "id": "Vdqf24vGehuS",
        "outputId": "ac31dae8-40cb-493b-d9ec-192e0ef5d2e6"
      },
      "execution_count": 12,
      "outputs": [
        {
          "output_type": "stream",
          "name": "stdout",
          "text": [
            "Requirement already satisfied: Faker==0.7.4 in /usr/local/lib/python3.10/dist-packages (0.7.4)\n",
            "Requirement already satisfied: python-dateutil>=2.4 in /usr/local/lib/python3.10/dist-packages (from Faker==0.7.4) (2.8.2)\n",
            "Requirement already satisfied: six in /usr/local/lib/python3.10/dist-packages (from Faker==0.7.4) (1.16.0)\n"
          ]
        }
      ]
    },
    {
      "cell_type": "code",
      "source": [
        "import pandas as pd\n",
        "import random\n",
        "import datetime\n",
        "\n",
        "# range\n",
        "num_records = 500000\n",
        "\n",
        "# Sample data\n",
        "tasks = [\"Automated Content Creation\", \"Virtual Assistant for Meetings\", \"Gesture-based Control System\", \"AI-assisted Design\", \"Personalized Learning Assistant\"]\n",
        "ai_technologies = [\"GPT-4\", \"BERT\", \"TensorFlow\", \"DALL-E\", \"ChatGPT\",\"RAG\", \"Other\"]\n",
        "augmentation_types = [\"Cognitive\", \"Physical\"]\n",
        "collaboration_aspects = [\"Brainstorming\", \"Decision-making\", \"None\", \"Collaboration\"]\n",
        "interaction_types = [\"Text\", \"Voice\", \"Gesture\", \"Visual\"]\n",
        "outcomes = [\"Increased creativity\", \"Improved efficiency\", \"Enhanced usability\", \"Faster design cycles\", \"Tailored learning\"]\n",
        "\n",
        "#data\n",
        "data = []\n",
        "for i in range(num_records):\n",
        "    data.append({\n",
        "        \"ID\": i + 1,\n",
        "        \"Task\": random.choice(tasks),\n",
        "        \"AI Technology\": random.choice(ai_technologies),\n",
        "        \"Augmentation Type\": random.choice(augmentation_types),\n",
        "        \"Collaboration Aspect\": random.choice(collaboration_aspects),\n",
        "        \"Interaction Type\": random.choice(interaction_types),\n",
        "        \"Outcome\": random.choice(outcomes),\n",
        "        \"Duration (hours)\": round(random.uniform(0.5, 50.0), 2),\n",
        "        \"Cost (USD)\": round(random.uniform(1000, 100000), 2),\n",
        "        \"Success Rate (%)\": round(random.uniform(50, 100), 2),\n",
        "        \"Efficiency Score\": round(random.uniform(0, 100), 2),\n",
        "        \"User Satisfaction\": random.randint(1, 10)\n",
        "    })\n",
        "\n",
        "\n",
        "df = pd.DataFrame(data)\n",
        "df.to_csv('human_centered_ai_data_with_numeric.csv', index=False)\n"
      ],
      "metadata": {
        "id": "BxOrkr_Lpr7f"
      },
      "execution_count": 21,
      "outputs": []
    }
  ]
}