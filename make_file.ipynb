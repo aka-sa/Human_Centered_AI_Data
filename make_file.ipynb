{
  "nbformat": 4,
  "nbformat_minor": 0,
  "metadata": {
    "colab": {
      "provenance": [],
      "authorship_tag": "ABX9TyOoIF6iRBBCL4FcvM9bXZ14",
      "include_colab_link": true
    },
    "kernelspec": {
      "name": "python3",
      "display_name": "Python 3"
    },
    "language_info": {
      "name": "python"
    }
  },
  "cells": [
    {
      "cell_type": "markdown",
      "metadata": {
        "id": "view-in-github",
        "colab_type": "text"
      },
      "source": [
        "<a href=\"https://colab.research.google.com/github/aka-sa/Human_Centered_AI_Data/blob/main/make_file.ipynb\" target=\"_parent\"><img src=\"https://colab.research.google.com/assets/colab-badge.svg\" alt=\"Open In Colab\"/></a>"
      ]
    },
    {
      "cell_type": "code",
      "source": [
        "!pip install datasets"
      ],
      "metadata": {
        "colab": {
          "base_uri": "https://localhost:8080/"
        },
        "id": "oom3jcsMUQ6j",
        "outputId": "30838f60-a979-4edb-b126-c4a89d5d37e6"
      },
      "execution_count": null,
      "outputs": [
        {
          "output_type": "stream",
          "name": "stdout",
          "text": [
            "Requirement already satisfied: datasets in /usr/local/lib/python3.10/dist-packages (2.21.0)\n",
            "Requirement already satisfied: filelock in /usr/local/lib/python3.10/dist-packages (from datasets) (3.15.4)\n",
            "Requirement already satisfied: numpy>=1.17 in /usr/local/lib/python3.10/dist-packages (from datasets) (1.26.4)\n",
            "Requirement already satisfied: pyarrow>=15.0.0 in /usr/local/lib/python3.10/dist-packages (from datasets) (17.0.0)\n",
            "Requirement already satisfied: dill<0.3.9,>=0.3.0 in /usr/local/lib/python3.10/dist-packages (from datasets) (0.3.8)\n",
            "Requirement already satisfied: pandas in /usr/local/lib/python3.10/dist-packages (from datasets) (2.1.4)\n",
            "Requirement already satisfied: requests>=2.32.2 in /usr/local/lib/python3.10/dist-packages (from datasets) (2.32.3)\n",
            "Requirement already satisfied: tqdm>=4.66.3 in /usr/local/lib/python3.10/dist-packages (from datasets) (4.66.5)\n",
            "Requirement already satisfied: xxhash in /usr/local/lib/python3.10/dist-packages (from datasets) (3.5.0)\n",
            "Requirement already satisfied: multiprocess in /usr/local/lib/python3.10/dist-packages (from datasets) (0.70.16)\n",
            "Requirement already satisfied: fsspec<=2024.6.1,>=2023.1.0 in /usr/local/lib/python3.10/dist-packages (from fsspec[http]<=2024.6.1,>=2023.1.0->datasets) (2024.6.1)\n",
            "Requirement already satisfied: aiohttp in /usr/local/lib/python3.10/dist-packages (from datasets) (3.10.5)\n",
            "Requirement already satisfied: huggingface-hub>=0.21.2 in /usr/local/lib/python3.10/dist-packages (from datasets) (0.23.5)\n",
            "Requirement already satisfied: packaging in /usr/local/lib/python3.10/dist-packages (from datasets) (24.1)\n",
            "Requirement already satisfied: pyyaml>=5.1 in /usr/local/lib/python3.10/dist-packages (from datasets) (6.0.2)\n",
            "Requirement already satisfied: aiohappyeyeballs>=2.3.0 in /usr/local/lib/python3.10/dist-packages (from aiohttp->datasets) (2.4.0)\n",
            "Requirement already satisfied: aiosignal>=1.1.2 in /usr/local/lib/python3.10/dist-packages (from aiohttp->datasets) (1.3.1)\n",
            "Requirement already satisfied: attrs>=17.3.0 in /usr/local/lib/python3.10/dist-packages (from aiohttp->datasets) (24.2.0)\n",
            "Requirement already satisfied: frozenlist>=1.1.1 in /usr/local/lib/python3.10/dist-packages (from aiohttp->datasets) (1.4.1)\n",
            "Requirement already satisfied: multidict<7.0,>=4.5 in /usr/local/lib/python3.10/dist-packages (from aiohttp->datasets) (6.0.5)\n",
            "Requirement already satisfied: yarl<2.0,>=1.0 in /usr/local/lib/python3.10/dist-packages (from aiohttp->datasets) (1.9.4)\n",
            "Requirement already satisfied: async-timeout<5.0,>=4.0 in /usr/local/lib/python3.10/dist-packages (from aiohttp->datasets) (4.0.3)\n",
            "Requirement already satisfied: typing-extensions>=3.7.4.3 in /usr/local/lib/python3.10/dist-packages (from huggingface-hub>=0.21.2->datasets) (4.12.2)\n",
            "Requirement already satisfied: charset-normalizer<4,>=2 in /usr/local/lib/python3.10/dist-packages (from requests>=2.32.2->datasets) (3.3.2)\n",
            "Requirement already satisfied: idna<4,>=2.5 in /usr/local/lib/python3.10/dist-packages (from requests>=2.32.2->datasets) (3.8)\n",
            "Requirement already satisfied: urllib3<3,>=1.21.1 in /usr/local/lib/python3.10/dist-packages (from requests>=2.32.2->datasets) (2.0.7)\n",
            "Requirement already satisfied: certifi>=2017.4.17 in /usr/local/lib/python3.10/dist-packages (from requests>=2.32.2->datasets) (2024.7.4)\n",
            "Requirement already satisfied: python-dateutil>=2.8.2 in /usr/local/lib/python3.10/dist-packages (from pandas->datasets) (2.8.2)\n",
            "Requirement already satisfied: pytz>=2020.1 in /usr/local/lib/python3.10/dist-packages (from pandas->datasets) (2024.1)\n",
            "Requirement already satisfied: tzdata>=2022.1 in /usr/local/lib/python3.10/dist-packages (from pandas->datasets) (2024.1)\n",
            "Requirement already satisfied: six>=1.5 in /usr/local/lib/python3.10/dist-packages (from python-dateutil>=2.8.2->pandas->datasets) (1.16.0)\n"
          ]
        }
      ]
    },
    {
      "cell_type": "code",
      "source": [
        "import pandas as pd"
      ],
      "metadata": {
        "id": "G6V5v_sCUhBp"
      },
      "execution_count": null,
      "outputs": []
    },
    {
      "cell_type": "code",
      "execution_count": null,
      "metadata": {
        "id": "pbjdRhOCT__F"
      },
      "outputs": [],
      "source": [
        "from datasets import load_dataset\n",
        "\n",
        "ds = load_dataset(\"akansha2k2/human_centered_ai_dataset\", split=\"train\",  streaming=True)"
      ]
    },
    {
      "cell_type": "code",
      "source": [
        "ds"
      ],
      "metadata": {
        "colab": {
          "base_uri": "https://localhost:8080/"
        },
        "id": "VKeNE5uHUN2Q",
        "outputId": "12078cda-f24b-415d-e977-6f0c429c3693"
      },
      "execution_count": null,
      "outputs": [
        {
          "output_type": "execute_result",
          "data": {
            "text/plain": [
              "IterableDataset({\n",
              "    features: ['ID', 'Task', 'AI Technology', 'Augmentation Type', 'Collaboration Aspect', 'Interaction Type', 'Outcome', 'Duration (hours)', 'Cost (USD)', 'Success Rate (%)', 'Efficiency Score', 'User Satisfaction'],\n",
              "    n_shards: 1\n",
              "})"
            ]
          },
          "metadata": {},
          "execution_count": 23
        }
      ]
    },
    {
      "cell_type": "code",
      "source": [
        "count = 0\n",
        "for record in ds:\n",
        "  print(record)\n",
        "  count += 1\n",
        "  if count == 10:\n",
        "    break"
      ],
      "metadata": {
        "colab": {
          "base_uri": "https://localhost:8080/"
        },
        "id": "oRr9mi72Uc2_",
        "outputId": "9dee8a54-b164-43d2-fa84-ededa172e45e"
      },
      "execution_count": null,
      "outputs": [
        {
          "output_type": "stream",
          "name": "stdout",
          "text": [
            "{'ID': 1, 'Task': 'Gesture-based Control System', 'AI Technology': 'RAG', 'Augmentation Type': 'Cognitive', 'Collaboration Aspect': 'Brainstorming', 'Interaction Type': 'Visual', 'Outcome': 'Faster design cycles', 'Duration (hours)': 10.37, 'Cost (USD)': 97035.41, 'Success Rate (%)': 94.77, 'Efficiency Score': 75.05, 'User Satisfaction': 2}\n",
            "{'ID': 2, 'Task': 'Automated Content Creation', 'AI Technology': 'BERT', 'Augmentation Type': 'Physical', 'Collaboration Aspect': None, 'Interaction Type': 'Visual', 'Outcome': 'Faster design cycles', 'Duration (hours)': 37.06, 'Cost (USD)': 12611.1, 'Success Rate (%)': 98.2, 'Efficiency Score': 82.12, 'User Satisfaction': 5}\n",
            "{'ID': 3, 'Task': 'Gesture-based Control System', 'AI Technology': 'BERT', 'Augmentation Type': 'Cognitive', 'Collaboration Aspect': 'Decision-making', 'Interaction Type': 'Visual', 'Outcome': 'Increased creativity', 'Duration (hours)': 40.81, 'Cost (USD)': 73956.16, 'Success Rate (%)': 59.66, 'Efficiency Score': 25.03, 'User Satisfaction': 2}\n",
            "{'ID': 4, 'Task': 'Gesture-based Control System', 'AI Technology': 'Other', 'Augmentation Type': 'Cognitive', 'Collaboration Aspect': 'Decision-making', 'Interaction Type': 'Voice', 'Outcome': 'Improved efficiency', 'Duration (hours)': 18.29, 'Cost (USD)': 80798.69, 'Success Rate (%)': 63.99, 'Efficiency Score': 96.61, 'User Satisfaction': 1}\n",
            "{'ID': 5, 'Task': 'Automated Content Creation', 'AI Technology': 'TensorFlow', 'Augmentation Type': 'Physical', 'Collaboration Aspect': None, 'Interaction Type': 'Voice', 'Outcome': 'Improved efficiency', 'Duration (hours)': 41.65, 'Cost (USD)': 90003.38, 'Success Rate (%)': 53.8, 'Efficiency Score': 66.47, 'User Satisfaction': 4}\n",
            "{'ID': 6, 'Task': 'AI-assisted Design', 'AI Technology': 'Other', 'Augmentation Type': 'Cognitive', 'Collaboration Aspect': 'Brainstorming', 'Interaction Type': 'Visual', 'Outcome': 'Faster design cycles', 'Duration (hours)': 1.27, 'Cost (USD)': 76364.52, 'Success Rate (%)': 87.23, 'Efficiency Score': 31.89, 'User Satisfaction': 2}\n",
            "{'ID': 7, 'Task': 'Personalized Learning Assistant', 'AI Technology': 'TensorFlow', 'Augmentation Type': 'Physical', 'Collaboration Aspect': None, 'Interaction Type': 'Visual', 'Outcome': 'Enhanced usability', 'Duration (hours)': 33.29, 'Cost (USD)': 48103.6, 'Success Rate (%)': 96.97, 'Efficiency Score': 54.91, 'User Satisfaction': 6}\n",
            "{'ID': 8, 'Task': 'Gesture-based Control System', 'AI Technology': 'RAG', 'Augmentation Type': 'Physical', 'Collaboration Aspect': None, 'Interaction Type': 'Text', 'Outcome': 'Tailored learning', 'Duration (hours)': 43.5, 'Cost (USD)': 5421.52, 'Success Rate (%)': 65.03, 'Efficiency Score': 82.09, 'User Satisfaction': 1}\n",
            "{'ID': 9, 'Task': 'Automated Content Creation', 'AI Technology': 'RAG', 'Augmentation Type': 'Cognitive', 'Collaboration Aspect': 'Brainstorming', 'Interaction Type': 'Voice', 'Outcome': 'Faster design cycles', 'Duration (hours)': 15.55, 'Cost (USD)': 46936.43, 'Success Rate (%)': 57.2, 'Efficiency Score': 87.35, 'User Satisfaction': 6}\n",
            "{'ID': 10, 'Task': 'Personalized Learning Assistant', 'AI Technology': 'RAG', 'Augmentation Type': 'Cognitive', 'Collaboration Aspect': 'Collaboration', 'Interaction Type': 'Gesture', 'Outcome': 'Tailored learning', 'Duration (hours)': 48.44, 'Cost (USD)': 1540.23, 'Success Rate (%)': 55.46, 'Efficiency Score': 16.28, 'User Satisfaction': 10}\n"
          ]
        }
      ]
    },
    {
      "cell_type": "code",
      "source": [
        "ds.info"
      ],
      "metadata": {
        "colab": {
          "base_uri": "https://localhost:8080/"
        },
        "id": "6nQmeLL9VK60",
        "outputId": "fc03d21c-8374-4240-b7db-532c808f9532"
      },
      "execution_count": null,
      "outputs": [
        {
          "output_type": "execute_result",
          "data": {
            "text/plain": [
              "DatasetInfo(description='', citation='', homepage='', license='', features={'ID': Value(dtype='int64', id=None), 'Task': Value(dtype='string', id=None), 'AI Technology': Value(dtype='string', id=None), 'Augmentation Type': Value(dtype='string', id=None), 'Collaboration Aspect': Value(dtype='string', id=None), 'Interaction Type': Value(dtype='string', id=None), 'Outcome': Value(dtype='string', id=None), 'Duration (hours)': Value(dtype='float64', id=None), 'Cost (USD)': Value(dtype='float64', id=None), 'Success Rate (%)': Value(dtype='float64', id=None), 'Efficiency Score': Value(dtype='float64', id=None), 'User Satisfaction': Value(dtype='int64', id=None)}, post_processed=None, supervised_keys=None, task_templates=None, builder_name='csv', dataset_name='human_centered_ai_dataset', config_name='default', version=0.0.0, splits={'train': SplitInfo(name='train', num_bytes=73746483, num_examples=500000, shard_lengths=None, dataset_name='human_centered_ai_dataset')}, download_checksums={'hf://datasets/akansha2k2/human_centered_ai_dataset@1707d28f89f1320a5885cca5e3654d35c9356b52/human_centered_ai_dataset.csv': {'num_bytes': 59191247, 'checksum': None}}, download_size=59191247, post_processing_size=None, dataset_size=73746483, size_in_bytes=132937730)"
            ]
          },
          "metadata": {},
          "execution_count": 25
        }
      ]
    },
    {
      "cell_type": "code",
      "source": [
        "df = pd.DataFrame(ds)"
      ],
      "metadata": {
        "id": "pTApUngcWdxJ"
      },
      "execution_count": null,
      "outputs": []
    },
    {
      "cell_type": "code",
      "source": [
        "print(df.head())"
      ],
      "metadata": {
        "id": "ziUUgFyzXGV3",
        "colab": {
          "base_uri": "https://localhost:8080/"
        },
        "outputId": "dec3c667-49b8-4860-f551-2f3b8b2c8b5d"
      },
      "execution_count": null,
      "outputs": [
        {
          "metadata": {
            "tags": null
          },
          "name": "stdout",
          "output_type": "stream",
          "text": [
            "   ID                          Task AI Technology Augmentation Type  \\\n",
            "0   1  Gesture-based Control System           RAG         Cognitive   \n",
            "1   2    Automated Content Creation          BERT          Physical   \n",
            "2   3  Gesture-based Control System          BERT         Cognitive   \n",
            "3   4  Gesture-based Control System         Other         Cognitive   \n",
            "4   5    Automated Content Creation    TensorFlow          Physical   \n",
            "\n",
            "  Collaboration Aspect Interaction Type               Outcome  \\\n",
            "0        Brainstorming           Visual  Faster design cycles   \n",
            "1                 None           Visual  Faster design cycles   \n",
            "2      Decision-making           Visual  Increased creativity   \n",
            "3      Decision-making            Voice   Improved efficiency   \n",
            "4                 None            Voice   Improved efficiency   \n",
            "\n",
            "   Duration (hours)  Cost (USD)  Success Rate (%)  Efficiency Score  \\\n",
            "0             10.37    97035.41             94.77             75.05   \n",
            "1             37.06    12611.10             98.20             82.12   \n",
            "2             40.81    73956.16             59.66             25.03   \n",
            "3             18.29    80798.69             63.99             96.61   \n",
            "4             41.65    90003.38             53.80             66.47   \n",
            "\n",
            "   User Satisfaction  \n",
            "0                  2  \n",
            "1                  5  \n",
            "2                  2  \n",
            "3                  1  \n",
            "4                  4  \n"
          ]
        }
      ]
    },
    {
      "cell_type": "code",
      "source": [
        "dataset = df.to_dict(orient='records')"
      ],
      "metadata": {
        "id": "k5orFoKXYUuM"
      },
      "execution_count": null,
      "outputs": []
    },
    {
      "cell_type": "code",
      "source": [
        "dataset[:2]"
      ],
      "metadata": {
        "colab": {
          "base_uri": "https://localhost:8080/"
        },
        "id": "nd3fXa3rYgrt",
        "outputId": "ebe6cb74-9271-4aaf-f715-a96f4b226568"
      },
      "execution_count": null,
      "outputs": [
        {
          "output_type": "execute_result",
          "data": {
            "text/plain": [
              "[{'ID': 1,\n",
              "  'Task': 'Gesture-based Control System',\n",
              "  'AI Technology': 'RAG',\n",
              "  'Augmentation Type': 'Cognitive',\n",
              "  'Collaboration Aspect': 'Brainstorming',\n",
              "  'Interaction Type': 'Visual',\n",
              "  'Outcome': 'Faster design cycles',\n",
              "  'Duration (hours)': 10.37,\n",
              "  'Cost (USD)': 97035.41,\n",
              "  'Success Rate (%)': 94.77,\n",
              "  'Efficiency Score': 75.05,\n",
              "  'User Satisfaction': 2},\n",
              " {'ID': 2,\n",
              "  'Task': 'Automated Content Creation',\n",
              "  'AI Technology': 'BERT',\n",
              "  'Augmentation Type': 'Physical',\n",
              "  'Collaboration Aspect': None,\n",
              "  'Interaction Type': 'Visual',\n",
              "  'Outcome': 'Faster design cycles',\n",
              "  'Duration (hours)': 37.06,\n",
              "  'Cost (USD)': 12611.1,\n",
              "  'Success Rate (%)': 98.2,\n",
              "  'Efficiency Score': 82.12,\n",
              "  'User Satisfaction': 5}]"
            ]
          },
          "metadata": {},
          "execution_count": 31
        }
      ]
    },
    {
      "cell_type": "code",
      "source": [
        "import json\n",
        "\n",
        "with open('human_centered_ai_data_with_numeric.json', 'w') as f:\n",
        "      for line in dataset:\n",
        "        f.write(json.dumps(line) + \"/n\")"
      ],
      "metadata": {
        "id": "OEMCzuDZYlVZ"
      },
      "execution_count": null,
      "outputs": []
    },
    {
      "cell_type": "code",
      "source": [
        "import tarfile\n",
        "\n",
        "with tarfile.open('human_centered_ai_data_with_numeric.tar.gz', 'w:gz') as tar:\n",
        "    tar.add('human_centered_ai_data_with_numeric.json')"
      ],
      "metadata": {
        "id": "HJeVm4QbZQaI"
      },
      "execution_count": null,
      "outputs": []
    },
    {
      "cell_type": "code",
      "source": [],
      "metadata": {
        "id": "lI15l1Xfbo_J"
      },
      "execution_count": null,
      "outputs": []
    }
  ]
}